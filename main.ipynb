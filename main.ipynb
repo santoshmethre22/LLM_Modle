{
 "cells": [
  {
   "cell_type": "code",
   "execution_count": 2,
   "id": "e5c5e17d",
   "metadata": {},
   "outputs": [],
   "source": [
    "# imports\n",
    "\n",
    "import requests\n",
    "from bs4 import BeautifulSoup\n",
    "from IPython.display import Markdown, display"
   ]
  },
  {
   "cell_type": "code",
   "execution_count": 3,
   "id": "656371f4",
   "metadata": {},
   "outputs": [],
   "source": [
    "\n",
    "OLLAMA_API = \"http://localhost:11434/api/chat\"\n",
    "HEADERS = {\"Content-Type\": \"application/json\"}\n",
    "MODEL = \"llama3.2:1b\"\n",
    "\n"
   ]
  },
  {
   "cell_type": "code",
   "execution_count": 4,
   "id": "cf67c54c",
   "metadata": {},
   "outputs": [],
   "source": [
    "messages = [\n",
    "    {\"role\": \"user\", \"content\": \"Describe some of the business applications of Generative AI\"}\n",
    "]"
   ]
  },
  {
   "cell_type": "code",
   "execution_count": 5,
   "id": "a6d20c74",
   "metadata": {},
   "outputs": [],
   "source": [
    "payload = {\n",
    "        \"model\": MODEL,\n",
    "        \"messages\": messages,\n",
    "        \"stream\": False\n",
    "    }"
   ]
  },
  {
   "cell_type": "code",
   "execution_count": 6,
   "id": "20753293",
   "metadata": {},
   "outputs": [
    {
     "name": "stdout",
     "output_type": "stream",
     "text": [
      "Generative AI, also known as Artificial General Intelligence (AGI), has numerous business applications across various industries. Here are some examples:\n",
      "\n",
      "1. **Content Generation**: Generative models can create high-quality content such as articles, product descriptions, and even entire websites. Companies like HubSpot, Grammarly, and WordLift use generative AI to streamline content creation and improve user experience.\n",
      "2. **Virtual Assistants**: Virtual personal assistants like Siri, Alexa, and Google Assistant are powered by Generative AI algorithms. These models can learn a user's preferences and habits to provide personalized recommendations and assistance.\n",
      "3. **Chatbots and Customer Service**: Chatbots using Generative AI can engage with customers via text or voice, providing 24/7 support and automating routine tasks. Companies like IBM and Microsoft are developing chatbots that use generative models to improve customer experience.\n",
      "4. **Product Design and Development**: Generative AI can create novel product designs, prototypes, and even entire product catalogs. Companies like IKEA and Samsung use generative models to speed up design processes and reduce costs.\n",
      "5. **Marketing Automation**: Generative AI can help marketers automate tasks such as content creation, lead generation, and personalization. Platforms like Marketo and Pardot use generative models to improve marketing efficiency.\n",
      "6. **Predictive Maintenance**: Generative AI can analyze vast amounts of data to predict equipment failures, reducing downtime and improving maintenance efficiency. Companies like GE Appliances and Bosch use predictive analytics with generative models to optimize their manufacturing processes.\n",
      "7. **Image and Video Generation**: Generative models can create realistic images and videos, revolutionizing industries such as advertising, entertainment, and education. Companies like Adobe and 3M are using generative AI to improve creative content generation.\n",
      "8. **Education and Training**: Generative AI can create personalized learning materials, adaptive assessments, and even entire educational courses. Platforms like Coursera and Udemy use generative models to improve student engagement and learning outcomes.\n",
      "9. **Security and Risk Analysis**: Generative AI can analyze vast amounts of data to identify potential security threats and predict malicious activity. Companies like IBM and McAfee are using generative models to improve threat detection and incident response.\n",
      "10. **Supply Chain Optimization**: Generative AI can analyze supply chain data to optimize routes, reduce delivery times, and improve inventory management. Companies like FedEx and DHL use generative models to streamline their logistics operations.\n",
      "\n",
      "These examples illustrate the vast potential of Generative AI in transforming industries and improving business efficiency. As this technology continues to evolve, we can expect to see even more innovative applications across various sectors.\n"
     ]
    }
   ],
   "source": [
    "response = requests.post(OLLAMA_API, json=payload, headers=HEADERS)\n",
    "print(response.json()['message']['content'])"
   ]
  },
  {
   "cell_type": "code",
   "execution_count": null,
   "id": "671a5765",
   "metadata": {},
   "outputs": [],
   "source": []
  },
  {
   "cell_type": "code",
   "execution_count": null,
   "id": "b55830b7",
   "metadata": {},
   "outputs": [],
   "source": []
  },
  {
   "cell_type": "code",
   "execution_count": null,
   "id": "556181d5",
   "metadata": {},
   "outputs": [],
   "source": []
  },
  {
   "cell_type": "code",
   "execution_count": null,
   "id": "6b3795d9",
   "metadata": {},
   "outputs": [],
   "source": []
  },
  {
   "cell_type": "code",
   "execution_count": null,
   "id": "7f95a0f1",
   "metadata": {},
   "outputs": [],
   "source": []
  }
 ],
 "metadata": {
  "kernelspec": {
   "display_name": "venv",
   "language": "python",
   "name": "python3"
  },
  "language_info": {
   "codemirror_mode": {
    "name": "ipython",
    "version": 3
   },
   "file_extension": ".py",
   "mimetype": "text/x-python",
   "name": "python",
   "nbconvert_exporter": "python",
   "pygments_lexer": "ipython3",
   "version": "3.13.1"
  }
 },
 "nbformat": 4,
 "nbformat_minor": 5
}
